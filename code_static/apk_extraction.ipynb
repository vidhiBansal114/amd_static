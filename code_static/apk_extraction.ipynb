{
 "cells": [
  {
   "cell_type": "code",
   "execution_count": 1,
   "id": "a0086396",
   "metadata": {},
   "outputs": [
    {
     "name": "stdout",
     "output_type": "stream",
     "text": [
      "                                                 sha256  \\\n",
      "0     0C8386F16E85F1A46C431241DF36CF8591B9B35CDC354E...   \n",
      "1     05DC151B1D4115891E22AD8A99AA8204E3B3A9344FAF35...   \n",
      "2     03D1161B5E4E76DB43B9A484596B4524AC7E40A9B4FBBA...   \n",
      "3     09AD3055D5BEFE1E04ECFFD788D0D49BEE911BA3181A57...   \n",
      "4     00B9C7822A3080F40E351A8124272CECD165D54A52CF35...   \n",
      "...                                                 ...   \n",
      "5998  096868E13DB9F482C9DF053AD5714E29528D5661937F82...   \n",
      "5999  01FB97BA68A1A50FF7586172A1042FF67757527931346F...   \n",
      "6000  08A90B9F5D9BF3A3B956E2FC4DD15CA3903190D719AE46...   \n",
      "6001  0D91235824F1EC39CCF7744E9A904C5D28D36ABBE765B9...   \n",
      "6002  0E3F0834B20179B40E087EE4F045A6777934AF168FFB00...   \n",
      "\n",
      "                                          sha1  \\\n",
      "0     4D12FF4C156A29153DE2B16FDD823A8D54279A22   \n",
      "1     bc0cca40d182328eb11a6046f67c7c707e85285a   \n",
      "2     702D981726FD014DE2060508A004EAB34B24C170   \n",
      "3     1F35D2F2305832CD9793B03072674D9C1B51ED7D   \n",
      "4     313E5DF378D916E8BE04A70F865C4302D0F1F02A   \n",
      "...                                        ...   \n",
      "5998  238FDACC4B05EF65640B52C640D8A85A8812E006   \n",
      "5999  A6832A359B45C947922C0E0DE9634CE8F25D7203   \n",
      "6000  214773c07ed1ef186a3480d9b16531429e6c6202   \n",
      "6001  33639E2B612495B60795CB64110F396057BFF6B8   \n",
      "6002  93d8ba1a044c6384af4035ab45cf24d8f030493a   \n",
      "\n",
      "                                   md5          dex_date  apk_size  \\\n",
      "0     0753DA1AEB5261FA287FDB7786671F02  01-08-2014 13:49     57285   \n",
      "1     4e96f1ae9476c222051264383e35f4c2  28-12-2012 11:34     57291   \n",
      "2     2DB0F25877C64588E71279D5086E687C  11-12-2011 00:40     57324   \n",
      "3     A1666067DC5194B8D6B198156DB259FC  25-11-2014 17:03     57354   \n",
      "4     7B53E5F4ED468645083F987625B83E0D  08-05-2016 11:33     57357   \n",
      "...                                ...               ...       ...   \n",
      "5998  070B435D2755DCB82A86C09553A454A1  28-04-2011 12:46    173641   \n",
      "5999  529FC15E71A1F8FC07F6C1345852495D  16-02-2012 09:55    173644   \n",
      "6000  c6f903f9573068bf44d38ca2b06e3da8  16-11-2013 18:58    173653   \n",
      "6001  92AAF21AB4E83BFCD03FF17C94EE8390  20-05-2014 12:13    173663   \n",
      "6002  15346c87f8e7f27709f2234bcabd4e85  14-07-2014 22:27    173674   \n",
      "\n",
      "                                     pkg_name       vercode  vt_detection  \\\n",
      "0       org.projectmaxs.module.phonestateread  2.200000e+01           0.0   \n",
      "1                          jp.keywalker.adams  3.000000e+00           0.0   \n",
      "2                         com.Shoot.The.Birds  1.000000e+00          37.0   \n",
      "3                          com.emirtekin.lima  1.000000e+00           0.0   \n",
      "4               com.egruckle.android.watchkb2  5.000000e+00           0.0   \n",
      "...                                       ...           ...           ...   \n",
      "5998                         com.sara.moe.nba  1.000000e+00          11.0   \n",
      "5999                        com.yun.aijizhang  4.000000e+00           1.0   \n",
      "6000  anime.kurator.cwa042_prettycuremaxheart  1.000000e+00           0.0   \n",
      "6001                  com.mortgagemapp.jeremy  1.400553e+09           0.0   \n",
      "6002                 com.mortgagemapp.aburton  1.405377e+09           0.0   \n",
      "\n",
      "          vt_scan_date  dex_size                    markets  \n",
      "0     04-09-2015 03:04    102908  play.google.com|PlayDrone  \n",
      "1     09-07-2014 13:17     78292  play.google.com|PlayDrone  \n",
      "2     18-05-2020 01:37     24272                    unknown  \n",
      "3     02-02-2016 07:35      4600            play.google.com  \n",
      "4     21-07-2016 09:39     42444            play.google.com  \n",
      "...                ...       ...                        ...  \n",
      "5998  06-04-2015 16:57    168248                   appchina  \n",
      "5999  21-06-2013 15:27    244672                   appchina  \n",
      "6000  26-11-2013 17:11   1020200            play.google.com  \n",
      "6001  07-01-2015 16:42     18840  play.google.com|PlayDrone  \n",
      "6002  23-07-2014 14:05     18840  PlayDrone|play.google.com  \n",
      "\n",
      "[6003 rows x 11 columns]\n",
      "Request failed: https://androzoo.uni.lu/api/download?sha256=013D4D0BAF2A362949FD7217EF722C5C12956F5C9CE1B93E904FB8320281B443&apikey=beb0826be12348c296a3193465211dbfdb95aeff85bd1ca9543434919c880fdf\n",
      "Request failed: https://androzoo.uni.lu/api/download?sha256=0384C03D7DC32761BF82A1966BC19041B9B0F466F74C7535CC77D1C72F36B1B9&apikey=beb0826be12348c296a3193465211dbfdb95aeff85bd1ca9543434919c880fdf\n",
      "Request failed: https://androzoo.uni.lu/api/download?sha256=0634E9E2FDFC80CFAD4A6F853D063A7382257A721DAE98C4DD15C7353FF2C426&apikey=beb0826be12348c296a3193465211dbfdb95aeff85bd1ca9543434919c880fdf\n"
     ]
    },
    {
     "name": "stderr",
     "output_type": "stream",
     "text": [
      "Traceback (most recent call last):\n",
      "  File \"C:\\Users\\Vidhi Bansal\\anaconda3\\lib\\site-packages\\gevent\\_ffi\\loop.py\", line 270, in python_check_callback\n",
      "    def python_check_callback(self, watcher_ptr): # pylint:disable=unused-argument\n",
      "KeyboardInterrupt\n",
      "2022-03-06T11:47:03Z\n"
     ]
    },
    {
     "ename": "KeyboardInterrupt",
     "evalue": "",
     "output_type": "error",
     "traceback": [
      "\u001b[1;31m---------------------------------------------------------------------------\u001b[0m",
      "\u001b[1;31mKeyboardInterrupt\u001b[0m                         Traceback (most recent call last)",
      "\u001b[1;32m~\\AppData\\Local\\Temp/ipykernel_15788/1687602596.py\u001b[0m in \u001b[0;36m<module>\u001b[1;34m\u001b[0m\n\u001b[0;32m     20\u001b[0m     \u001b[0mlist1\u001b[0m\u001b[1;33m.\u001b[0m\u001b[0mappend\u001b[0m\u001b[1;33m(\u001b[0m\u001b[0mi\u001b[0m\u001b[1;33m)\u001b[0m\u001b[1;33m\u001b[0m\u001b[1;33m\u001b[0m\u001b[0m\n\u001b[0;32m     21\u001b[0m \u001b[1;33m\u001b[0m\u001b[0m\n\u001b[1;32m---> 22\u001b[1;33m     \u001b[0mandrozoo\u001b[0m\u001b[1;33m.\u001b[0m\u001b[0mget\u001b[0m\u001b[1;33m(\u001b[0m\u001b[0mlist1\u001b[0m\u001b[1;33m)\u001b[0m\u001b[1;33m\u001b[0m\u001b[1;33m\u001b[0m\u001b[0m\n\u001b[0m\u001b[0;32m     23\u001b[0m \u001b[0mprint\u001b[0m\u001b[1;33m(\u001b[0m\u001b[0mandrozoo\u001b[0m\u001b[1;33m)\u001b[0m\u001b[1;33m\u001b[0m\u001b[1;33m\u001b[0m\u001b[0m\n",
      "\u001b[1;32m~\\anaconda3\\lib\\site-packages\\pyandrozoo\\api.py\u001b[0m in \u001b[0;36mget\u001b[1;34m(self, sha256_list)\u001b[0m\n\u001b[0;32m     36\u001b[0m             reqs.append(grequests.get(url,\n\u001b[0;32m     37\u001b[0m                                     hooks={'response': [self.__write_file]}))\n\u001b[1;32m---> 38\u001b[1;33m         \u001b[0mgrequests\u001b[0m\u001b[1;33m.\u001b[0m\u001b[0mmap\u001b[0m\u001b[1;33m(\u001b[0m\u001b[0mreqs\u001b[0m\u001b[1;33m,\u001b[0m \u001b[0msize\u001b[0m\u001b[1;33m=\u001b[0m\u001b[1;36m30\u001b[0m\u001b[1;33m,\u001b[0m \u001b[0mexception_handler\u001b[0m\u001b[1;33m=\u001b[0m\u001b[0mexception_handler\u001b[0m\u001b[1;33m)\u001b[0m\u001b[1;33m\u001b[0m\u001b[1;33m\u001b[0m\u001b[0m\n\u001b[0m",
      "\u001b[1;32m~\\anaconda3\\lib\\site-packages\\grequests.py\u001b[0m in \u001b[0;36mmap\u001b[1;34m(requests, stream, size, exception_handler, gtimeout)\u001b[0m\n\u001b[0;32m    123\u001b[0m     \u001b[0mpool\u001b[0m \u001b[1;33m=\u001b[0m \u001b[0mPool\u001b[0m\u001b[1;33m(\u001b[0m\u001b[0msize\u001b[0m\u001b[1;33m)\u001b[0m \u001b[1;32mif\u001b[0m \u001b[0msize\u001b[0m \u001b[1;32melse\u001b[0m \u001b[1;32mNone\u001b[0m\u001b[1;33m\u001b[0m\u001b[1;33m\u001b[0m\u001b[0m\n\u001b[0;32m    124\u001b[0m     \u001b[0mjobs\u001b[0m \u001b[1;33m=\u001b[0m \u001b[1;33m[\u001b[0m\u001b[0msend\u001b[0m\u001b[1;33m(\u001b[0m\u001b[0mr\u001b[0m\u001b[1;33m,\u001b[0m \u001b[0mpool\u001b[0m\u001b[1;33m,\u001b[0m \u001b[0mstream\u001b[0m\u001b[1;33m=\u001b[0m\u001b[0mstream\u001b[0m\u001b[1;33m)\u001b[0m \u001b[1;32mfor\u001b[0m \u001b[0mr\u001b[0m \u001b[1;32min\u001b[0m \u001b[0mrequests\u001b[0m\u001b[1;33m]\u001b[0m\u001b[1;33m\u001b[0m\u001b[1;33m\u001b[0m\u001b[0m\n\u001b[1;32m--> 125\u001b[1;33m     \u001b[0mgevent\u001b[0m\u001b[1;33m.\u001b[0m\u001b[0mjoinall\u001b[0m\u001b[1;33m(\u001b[0m\u001b[0mjobs\u001b[0m\u001b[1;33m,\u001b[0m \u001b[0mtimeout\u001b[0m\u001b[1;33m=\u001b[0m\u001b[0mgtimeout\u001b[0m\u001b[1;33m)\u001b[0m\u001b[1;33m\u001b[0m\u001b[1;33m\u001b[0m\u001b[0m\n\u001b[0m\u001b[0;32m    126\u001b[0m \u001b[1;33m\u001b[0m\u001b[0m\n\u001b[0;32m    127\u001b[0m     \u001b[0mret\u001b[0m \u001b[1;33m=\u001b[0m \u001b[1;33m[\u001b[0m\u001b[1;33m]\u001b[0m\u001b[1;33m\u001b[0m\u001b[1;33m\u001b[0m\u001b[0m\n",
      "\u001b[1;32m~\\anaconda3\\lib\\site-packages\\gevent\\_gevent_cgreenlet.cp39-win_amd64.pyd\u001b[0m in \u001b[0;36mgevent._gevent_cgreenlet.joinall\u001b[1;34m()\u001b[0m\n",
      "\u001b[1;32m~\\anaconda3\\lib\\site-packages\\gevent\\_gevent_cgreenlet.cp39-win_amd64.pyd\u001b[0m in \u001b[0;36mgevent._gevent_cgreenlet.joinall\u001b[1;34m()\u001b[0m\n",
      "\u001b[1;32m~\\anaconda3\\lib\\site-packages\\gevent\\_gevent_c_hub_primitives.cp39-win_amd64.pyd\u001b[0m in \u001b[0;36mgevent._gevent_c_hub_primitives.wait_on_objects\u001b[1;34m()\u001b[0m\n",
      "\u001b[1;32m~\\anaconda3\\lib\\site-packages\\gevent\\_gevent_c_hub_primitives.cp39-win_amd64.pyd\u001b[0m in \u001b[0;36mgevent._gevent_c_hub_primitives.wait_on_objects\u001b[1;34m()\u001b[0m\n",
      "\u001b[1;32m~\\anaconda3\\lib\\site-packages\\gevent\\_gevent_c_hub_primitives.cp39-win_amd64.pyd\u001b[0m in \u001b[0;36mgevent._gevent_c_hub_primitives._WaitIterator.__next__\u001b[1;34m()\u001b[0m\n",
      "\u001b[1;32m~\\anaconda3\\lib\\site-packages\\gevent\\_gevent_c_hub_primitives.cp39-win_amd64.pyd\u001b[0m in \u001b[0;36mgevent._gevent_c_hub_primitives._WaitIterator.__next__\u001b[1;34m()\u001b[0m\n",
      "\u001b[1;32m~\\anaconda3\\lib\\site-packages\\gevent\\_gevent_c_waiter.cp39-win_amd64.pyd\u001b[0m in \u001b[0;36mgevent._gevent_c_waiter.MultipleWaiter.get\u001b[1;34m()\u001b[0m\n",
      "\u001b[1;32m~\\anaconda3\\lib\\site-packages\\gevent\\_gevent_c_waiter.cp39-win_amd64.pyd\u001b[0m in \u001b[0;36mgevent._gevent_c_waiter.Waiter.get\u001b[1;34m()\u001b[0m\n",
      "\u001b[1;32m~\\anaconda3\\lib\\site-packages\\gevent\\_gevent_c_greenlet_primitives.cp39-win_amd64.pyd\u001b[0m in \u001b[0;36mgevent._gevent_c_greenlet_primitives.SwitchOutGreenletWithLoop.switch\u001b[1;34m()\u001b[0m\n",
      "\u001b[1;32m~\\anaconda3\\lib\\site-packages\\gevent\\_gevent_c_greenlet_primitives.cp39-win_amd64.pyd\u001b[0m in \u001b[0;36mgevent._gevent_c_greenlet_primitives.SwitchOutGreenletWithLoop.switch\u001b[1;34m()\u001b[0m\n",
      "\u001b[1;32m~\\anaconda3\\lib\\site-packages\\gevent\\_gevent_c_greenlet_primitives.cp39-win_amd64.pyd\u001b[0m in \u001b[0;36mgevent._gevent_c_greenlet_primitives.SwitchOutGreenletWithLoop.switch\u001b[1;34m()\u001b[0m\n",
      "\u001b[1;32msrc/gevent/_gevent_c_greenlet_primitives.pxd\u001b[0m in \u001b[0;36mgevent._gevent_c_greenlet_primitives._greenlet_switch\u001b[1;34m()\u001b[0m\n",
      "\u001b[1;32m~\\anaconda3\\lib\\site-packages\\gevent\\_ffi\\loop.py\u001b[0m in \u001b[0;36mpython_check_callback\u001b[1;34m(self, watcher_ptr)\u001b[0m\n\u001b[0;32m    268\u001b[0m \u001b[1;33m\u001b[0m\u001b[0m\n\u001b[0;32m    269\u001b[0m     \u001b[1;32mif\u001b[0m \u001b[1;32mnot\u001b[0m \u001b[0mPYPY\u001b[0m\u001b[1;33m:\u001b[0m\u001b[1;33m\u001b[0m\u001b[1;33m\u001b[0m\u001b[0m\n\u001b[1;32m--> 270\u001b[1;33m         \u001b[1;32mdef\u001b[0m \u001b[0mpython_check_callback\u001b[0m\u001b[1;33m(\u001b[0m\u001b[0mself\u001b[0m\u001b[1;33m,\u001b[0m \u001b[0mwatcher_ptr\u001b[0m\u001b[1;33m)\u001b[0m\u001b[1;33m:\u001b[0m \u001b[1;31m# pylint:disable=unused-argument\u001b[0m\u001b[1;33m\u001b[0m\u001b[1;33m\u001b[0m\u001b[0m\n\u001b[0m\u001b[0;32m    271\u001b[0m             \u001b[1;31m# If we have the onerror callback, this is a no-op; all the real\u001b[0m\u001b[1;33m\u001b[0m\u001b[1;33m\u001b[0m\u001b[0m\n\u001b[0;32m    272\u001b[0m             \u001b[1;31m# work to rethrow the exception is done by the onerror callback\u001b[0m\u001b[1;33m\u001b[0m\u001b[1;33m\u001b[0m\u001b[0m\n",
      "\u001b[1;31mKeyboardInterrupt\u001b[0m: "
     ]
    },
    {
     "name": "stderr",
     "output_type": "stream",
     "text": [
      "C:\\Users\\Vidhi Bansal\\anaconda3\\lib\\site-packages\\gevent\\hub.py:161: UserWarning: libuv only supports millisecond timer resolution; all times less will be set to 1 ms\n",
      "  with loop.timer(seconds, ref=ref) as t:\n"
     ]
    }
   ],
   "source": [
    "import pandas as pd\n",
    "import numpy as np\n",
    "import pyandrozoo\n",
    "\n",
    "import time\n",
    "import random\n",
    "import datetime\n",
    "\n",
    "androzoo = pyandrozoo.pyAndroZoo('beb0826be12348c296a3193465211dbfdb95aeff85bd1ca9543434919c880fdf')\n",
    "df= pd.read_csv('latest_500.csv')\n",
    "print(df)\n",
    "#df=df.sort_values(by=['apk_size'],ascending=True)\n",
    "apks= df.iloc[:,0].values\n",
    "apks=apks.tolist()\n",
    "#apks1= apks[1000:2000]\n",
    "#print(apks1)\n",
    "\n",
    "for i in apks:\n",
    "    list1=[]\n",
    "    list1.append(i)\n",
    "\n",
    "    androzoo.get(list1)\n",
    "print(androzoo)"
   ]
  }
 ],
 "metadata": {
  "kernelspec": {
   "display_name": "Python 3 (ipykernel)",
   "language": "python",
   "name": "python3"
  },
  "language_info": {
   "codemirror_mode": {
    "name": "ipython",
    "version": 3
   },
   "file_extension": ".py",
   "mimetype": "text/x-python",
   "name": "python",
   "nbconvert_exporter": "python",
   "pygments_lexer": "ipython3",
   "version": "3.7.9"
  }
 },
 "nbformat": 4,
 "nbformat_minor": 5
}
